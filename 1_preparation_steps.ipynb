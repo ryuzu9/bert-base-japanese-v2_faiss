{
 "cells": [
  {
   "cell_type": "markdown",
   "id": "df4ee110-e90f-49cb-81d1-0ab134e2d3d4",
   "metadata": {},
   "source": [
    "## ✫Livedoorテキストを使用するための準備（テキストの成形と各辞書の作成）"
   ]
  },
  {
   "cell_type": "markdown",
   "id": "2b525a87-8e7c-4e34-aaa0-b55e9d4605fe",
   "metadata": {},
   "source": [
    "### 1. Livedoorテキストの読み込み"
   ]
  },
  {
   "cell_type": "code",
   "execution_count": 1,
   "id": "9681eaa7-85f6-4c98-84c8-7c9b8e537c3e",
   "metadata": {},
   "outputs": [],
   "source": [
    "# # Livedoorニュースのファイルをダウンロード\n",
    "# ! wget \"https://www.rondhuit.com/download/ldcc-20140209.tar.gz\""
   ]
  },
  {
   "cell_type": "code",
   "execution_count": 2,
   "id": "aae903fa-384a-4f96-a0df-cc2a73bf5e61",
   "metadata": {},
   "outputs": [
    {
     "name": "stdout",
     "output_type": "stream",
     "text": [
      "['CHANGES.txt', 'dokujo-tsushin', 'it-life-hack', 'kaden-channel', 'livedoor-homme', 'movie-enter', 'peachy', 'README.txt', 'smax', 'sports-watch', 'topic-news']\n",
      "カテゴリー数: 9\n",
      "['dokujo-tsushin', 'it-life-hack', 'kaden-channel', 'livedoor-homme', 'movie-enter', 'peachy', 'smax', 'sports-watch', 'topic-news']\n"
     ]
    }
   ],
   "source": [
    "# ファイルを解凍し、カテゴリー数と内容を確認\n",
    "import tarfile\n",
    "import os\n",
    "\n",
    "# アーカイブの展開\n",
    "tar = tarfile.open(\"ldcc-20140209.tar.gz\", \"r:gz\")\n",
    "tar.extractall(\"./data/livedoor/\")\n",
    "tar.close()\n",
    "\n",
    "# フォルダのファイルとディレクトリを確認\n",
    "files_folders = [name for name in os.listdir(\"./data/livedoor/text/\")]\n",
    "print(files_folders)\n",
    "\n",
    "# カテゴリーのフォルダのみを抽出\n",
    "categories = [name for name in os.listdir(\n",
    "    \"./data/livedoor/text/\") if os.path.isdir(\"./data/livedoor/text/\"+name)]\n",
    "\n",
    "print(\"カテゴリー数:\", len(categories))\n",
    "print(categories)\n",
    "\n",
    "# ['CHANGES.txt', 'dokujo-tsushin', 'it-life-hack', 'kaden-channel', 'livedoor-homme', 'movie-enter', 'peachy', 'README.txt', 'smax', 'sports-watch', 'topic-news']\n",
    "# カテゴリー数: 9\n",
    "# ['dokujo-tsushin', 'it-life-hack', 'kaden-channel', 'livedoor-homme', 'movie-enter', 'peachy', 'smax', 'sports-watch', 'topic-news']"
   ]
  },
  {
   "cell_type": "code",
   "execution_count": 3,
   "id": "307e59be-58d5-4d69-9be4-0c6935601fa7",
   "metadata": {},
   "outputs": [
    {
     "name": "stdout",
     "output_type": "stream",
     "text": [
      "0： http://news.livedoor.com/article/detail/6255260/\n",
      "\n",
      "1： 2012-02-07T09:00:00+0900\n",
      "\n",
      "2： 新しいヴァンパイアが誕生！　ジョニデ主演『ダーク・シャドウ』の公開日が決定\n",
      "\n",
      "3： 　こんなヴァンパイアは見たことがない！　ジョニー・デップとティム・バートン監督がタッグを組んだ映画『ダーク・シャドウズ（原題）』の邦題が『ダーク・シャドウ』に決定。日本公開日が5月19日に決まった。さらに、ジョニー・デップ演じるヴァンパイアの写真が公開された。\n",
      "\n"
     ]
    }
   ],
   "source": [
    "# ファイルの中身を確認してみる\n",
    "file_name = \"./data/livedoor/text/movie-enter/movie-enter-6255260.txt\"\n",
    "\n",
    "with open(file_name) as text_file:\n",
    "    text = text_file.readlines()\n",
    "    print(\"0：\", text[0])  # URL情報\n",
    "    print(\"1：\", text[1])  # タイムスタンプ\n",
    "    print(\"2：\", text[2])  # タイトル\n",
    "    print(\"3：\", text[3])  # 本文"
   ]
  },
  {
   "cell_type": "code",
   "execution_count": 4,
   "id": "549da2b8-e261-4c5e-ae8f-6ceb0ddda50c",
   "metadata": {},
   "outputs": [],
   "source": [
    "# テキスト本文のみを取りだすための関数\n",
    "def extract_main_txt(file_name):\n",
    "    with open(file_name) as text_file:\n",
    "        # 今回はタイトル行は外したいので、3要素目以降の本文のみ使用\n",
    "        text = text_file.readlines()[3:]\n",
    "\n",
    "        # 3要素目以降にも本文が入っている場合があるので、リストにして、後で結合させる\n",
    "        text = [sentence.strip() for sentence in text]  # 空白文字(スペースやタブ、改行)の削除\n",
    "        text = list(filter(lambda line: line != '', text))\n",
    "        text = ''.join(text)\n",
    "        text = text.translate(str.maketrans(\n",
    "            {'\\n': '', '\\t': '', '\\r': '', '\\u3000': ''}))  # 改行やタブ、全角スペースを消す\n",
    "        return text"
   ]
  },
  {
   "cell_type": "code",
   "execution_count": 5,
   "id": "e4190437-cf6a-405f-86e7-96d56a826048",
   "metadata": {},
   "outputs": [],
   "source": [
    "# リストに前処理した本文と、カテゴリーのラベルを追加していく\n",
    "import glob\n",
    "\n",
    "list_text = []\n",
    "list_label = []\n",
    "\n",
    "for cat in categories:\n",
    "    text_files = glob.glob(os.path.join(\"./data/livedoor/text\", cat, \"*.txt\"))\n",
    "\n",
    "    # 前処理extract_main_txtを実施して本文を取得\n",
    "    body = [extract_main_txt(text_file) for text_file in text_files]\n",
    "\n",
    "    label = [cat] * len(body)  # bodyの数文だけカテゴリー名のラベルのリストを作成\n",
    "\n",
    "    list_text.extend(body)  # appendが要素を追加するのに対して、extendはリストごと追加する\n",
    "    list_label.extend(label)"
   ]
  },
  {
   "cell_type": "code",
   "execution_count": 6,
   "id": "1e85cbdc-3ed8-49dc-96f9-5119db42fd4b",
   "metadata": {},
   "outputs": [
    {
     "name": "stdout",
     "output_type": "stream",
     "text": [
      "独女のココロを優しく癒すゆるキャラたち。ドアラ、ひこにゃん、せんとくんなどなど、そのクオリティの如何に関わらず、なぜか「大ブレイク」してしまうところもゆるキャラの魅力。一度火がつけばその人気は一気に全国区となり、関連商品は飛ぶように売れまくる。そのゆるキャラ界で新たなスターとなりそうな1匹（？）こそ、ダイハツ自動車「ムーヴコンテ」のCMに登場している「カクカクシカジカ」だろう。コミカルな声にあわせ「カクカクシカジカ」と軽妙な動きを見せるシカ——、といえば、一度は目にしたこともあるはず。初登場は、新車ムーヴコンテが発表された08年8月のCMで、「このカクカクしたクルマ、いいところがシカジカ。ゆえにカクカクシカジカ」と、クルマの説明なのか、自己紹介なのかすらも不明なセリフで登場。以降、自分がシカであるくせに、干支の牛や虎になるために気ぐるみを着てみたり、ムーヴコンテに搭載されている新技術の「CVT」を「ちょっと ヴぃっくりな 低燃費」と解説するなど、ちょっとひねくれた辛口評論家という設定を無視するかのごとく、キャラが独走を続けている。そのゆるキャラのネクストジェネレーションであるカクカクシカジカのオリジナルグッズがもらえるキャンペーン「カクカクトクトクフェア」が、6月5日（土）、6日（日）の両日で開催される。期間中にダイハツのお店に来店すると、抽選で「カキ氷器」「折りたたみ傘」「ペットッボトルホルダー」がもれなく当たるという。フェア告知用のCMも製作されているようで、今回、カクカクシカジカが扮するのはサッカーの審判。ワールドカップというタイミングに合わせての演出のようだが、今作も適当なゆるさを楽しませてくれるはず。CMは本日よりOA。「かわいらしく、スタイリッシュな軽自動車」というブランドイメージを持つダイハツが、さらに女性からの支持率を上がりそうなゆるキャラの躍進。この週末には普段はなかなか行く機会がないディーラーにゆるキャラ目当てで行ってみるのもいいかもしれない。・カクカクトクトクフェア・奔放な振る舞いを見られる過去のCMアーカイブ【コチラ】■「カクカクトクトクフェア」2010年6月5日（土）〜6月6日（日）全国のダイハツのお店※一部のお店では実施していない場合がございます。■景品1等 カクカクシカジカカキ氷器2等 カサカサシカジカ折りたたみ傘3等 ゴクゴクシカジカペットボトルホルダー\n",
      "dokujo-tsushin\n"
     ]
    }
   ],
   "source": [
    "# 10番目の文章とラベルを確認\n",
    "print(list_text[10])\n",
    "print(list_label[10])"
   ]
  },
  {
   "cell_type": "code",
   "execution_count": 7,
   "id": "e1881b02-86ed-48eb-a95e-8ce0dc0aba12",
   "metadata": {},
   "outputs": [
    {
     "name": "stdout",
     "output_type": "stream",
     "text": [
      "(7376, 2)\n"
     ]
    },
    {
     "data": {
      "text/html": [
       "<div>\n",
       "<style scoped>\n",
       "    .dataframe tbody tr th:only-of-type {\n",
       "        vertical-align: middle;\n",
       "    }\n",
       "\n",
       "    .dataframe tbody tr th {\n",
       "        vertical-align: top;\n",
       "    }\n",
       "\n",
       "    .dataframe thead th {\n",
       "        text-align: right;\n",
       "    }\n",
       "</style>\n",
       "<table border=\"1\" class=\"dataframe\">\n",
       "  <thead>\n",
       "    <tr style=\"text-align: right;\">\n",
       "      <th></th>\n",
       "      <th>text</th>\n",
       "      <th>label</th>\n",
       "    </tr>\n",
       "  </thead>\n",
       "  <tbody>\n",
       "    <tr>\n",
       "      <th>0</th>\n",
       "      <td>もうすぐジューン・ブライドと呼ばれる６月。独女の中には自分の式はまだなのに呼ばれてばかり……...</td>\n",
       "      <td>dokujo-tsushin</td>\n",
       "    </tr>\n",
       "    <tr>\n",
       "      <th>1</th>\n",
       "      <td>携帯電話が普及する以前、恋人への連絡ツールは一般電話が普通だった。恋人と別れたら、手帳に書か...</td>\n",
       "      <td>dokujo-tsushin</td>\n",
       "    </tr>\n",
       "    <tr>\n",
       "      <th>2</th>\n",
       "      <td>「男性はやっぱり、女性の“すっぴん”が大好きなんですかね」と不満そうに話すのは、出版関係で働...</td>\n",
       "      <td>dokujo-tsushin</td>\n",
       "    </tr>\n",
       "  </tbody>\n",
       "</table>\n",
       "</div>"
      ],
      "text/plain": [
       "                                                text           label\n",
       "0  もうすぐジューン・ブライドと呼ばれる６月。独女の中には自分の式はまだなのに呼ばれてばかり……...  dokujo-tsushin\n",
       "1  携帯電話が普及する以前、恋人への連絡ツールは一般電話が普通だった。恋人と別れたら、手帳に書か...  dokujo-tsushin\n",
       "2  「男性はやっぱり、女性の“すっぴん”が大好きなんですかね」と不満そうに話すのは、出版関係で働...  dokujo-tsushin"
      ]
     },
     "execution_count": 7,
     "metadata": {},
     "output_type": "execute_result"
    }
   ],
   "source": [
    "# pandasのDataFrameに変換する\n",
    "import pandas as pd\n",
    "\n",
    "df = pd.DataFrame({'text': list_text, 'label': list_label})\n",
    "\n",
    "# 大きさを確認しておく（7,376文章が存在）\n",
    "print(df.shape)\n",
    "# (7376, 2)\n",
    "\n",
    "df.head(3)"
   ]
  },
  {
   "cell_type": "code",
   "execution_count": 8,
   "id": "035985da-ae2d-4ead-93cc-341878d52467",
   "metadata": {},
   "outputs": [
    {
     "name": "stdout",
     "output_type": "stream",
     "text": [
      "{0: 'dokujo-tsushin', 1: 'it-life-hack', 2: 'kaden-channel', 3: 'livedoor-homme', 4: 'movie-enter', 5: 'peachy', 6: 'smax', 7: 'sports-watch', 8: 'topic-news'}\n",
      "{'dokujo-tsushin': 0, 'it-life-hack': 1, 'kaden-channel': 2, 'livedoor-homme': 3, 'movie-enter': 4, 'peachy': 5, 'smax': 6, 'sports-watch': 7, 'topic-news': 8}\n"
     ]
    },
    {
     "data": {
      "text/html": [
       "<div>\n",
       "<style scoped>\n",
       "    .dataframe tbody tr th:only-of-type {\n",
       "        vertical-align: middle;\n",
       "    }\n",
       "\n",
       "    .dataframe tbody tr th {\n",
       "        vertical-align: top;\n",
       "    }\n",
       "\n",
       "    .dataframe thead th {\n",
       "        text-align: right;\n",
       "    }\n",
       "</style>\n",
       "<table border=\"1\" class=\"dataframe\">\n",
       "  <thead>\n",
       "    <tr style=\"text-align: right;\">\n",
       "      <th></th>\n",
       "      <th>text</th>\n",
       "      <th>label_index</th>\n",
       "    </tr>\n",
       "  </thead>\n",
       "  <tbody>\n",
       "    <tr>\n",
       "      <th>0</th>\n",
       "      <td>もうすぐジューン・ブライドと呼ばれる６月。独女の中には自分の式はまだなのに呼ばれてばかり……...</td>\n",
       "      <td>0</td>\n",
       "    </tr>\n",
       "    <tr>\n",
       "      <th>1</th>\n",
       "      <td>携帯電話が普及する以前、恋人への連絡ツールは一般電話が普通だった。恋人と別れたら、手帳に書か...</td>\n",
       "      <td>0</td>\n",
       "    </tr>\n",
       "    <tr>\n",
       "      <th>2</th>\n",
       "      <td>「男性はやっぱり、女性の“すっぴん”が大好きなんですかね」と不満そうに話すのは、出版関係で働...</td>\n",
       "      <td>0</td>\n",
       "    </tr>\n",
       "  </tbody>\n",
       "</table>\n",
       "</div>"
      ],
      "text/plain": [
       "                                                text  label_index\n",
       "0  もうすぐジューン・ブライドと呼ばれる６月。独女の中には自分の式はまだなのに呼ばれてばかり……...            0\n",
       "1  携帯電話が普及する以前、恋人への連絡ツールは一般電話が普通だった。恋人と別れたら、手帳に書か...            0\n",
       "2  「男性はやっぱり、女性の“すっぴん”が大好きなんですかね」と不満そうに話すのは、出版関係で働...            0"
      ]
     },
     "execution_count": 8,
     "metadata": {},
     "output_type": "execute_result"
    }
   ],
   "source": [
    "# カテゴリーの辞書を作成\n",
    "dic_id2cat = dict(zip(list(range(len(categories))), categories))\n",
    "dic_cat2id = dict(zip(categories, list(range(len(categories)))))\n",
    "\n",
    "print(dic_id2cat)\n",
    "print(dic_cat2id)\n",
    "\n",
    "# DataFrameにカテゴリーindexの列を作成\n",
    "df[\"label_index\"] = df[\"label\"].map(dic_cat2id)\n",
    "df.head()\n",
    "\n",
    "# label列を消去し、text, indexの順番にする\n",
    "df = df.loc[:, [\"text\", \"label_index\"]]\n",
    "df.head(3)"
   ]
  },
  {
   "cell_type": "code",
   "execution_count": 9,
   "id": "09f11322-d3f5-4ee5-9a26-8924907a6392",
   "metadata": {},
   "outputs": [
    {
     "data": {
      "text/html": [
       "<div>\n",
       "<style scoped>\n",
       "    .dataframe tbody tr th:only-of-type {\n",
       "        vertical-align: middle;\n",
       "    }\n",
       "\n",
       "    .dataframe tbody tr th {\n",
       "        vertical-align: top;\n",
       "    }\n",
       "\n",
       "    .dataframe thead th {\n",
       "        text-align: right;\n",
       "    }\n",
       "</style>\n",
       "<table border=\"1\" class=\"dataframe\">\n",
       "  <thead>\n",
       "    <tr style=\"text-align: right;\">\n",
       "      <th></th>\n",
       "      <th>text</th>\n",
       "      <th>label_index</th>\n",
       "    </tr>\n",
       "  </thead>\n",
       "  <tbody>\n",
       "    <tr>\n",
       "      <th>0</th>\n",
       "      <td>Peachyでも大人気の「恋愛」をテーマにした記事の週間ランキングです！2012年6月21日...</td>\n",
       "      <td>5</td>\n",
       "    </tr>\n",
       "    <tr>\n",
       "      <th>1</th>\n",
       "      <td>値下げや利用可能国が拡大！テレコムスクエアは1日、ポストペイドタイプの海外向けSIMカード「...</td>\n",
       "      <td>6</td>\n",
       "    </tr>\n",
       "    <tr>\n",
       "      <th>2</th>\n",
       "      <td>４月。新しい年度を迎え、新しい顧客の開拓、新しい取引先、新しい上司や同僚。エネルギーに満ち溢...</td>\n",
       "      <td>3</td>\n",
       "    </tr>\n",
       "  </tbody>\n",
       "</table>\n",
       "</div>"
      ],
      "text/plain": [
       "                                                text  label_index\n",
       "0  Peachyでも大人気の「恋愛」をテーマにした記事の週間ランキングです！2012年6月21日...            5\n",
       "1  値下げや利用可能国が拡大！テレコムスクエアは1日、ポストペイドタイプの海外向けSIMカード「...            6\n",
       "2  ４月。新しい年度を迎え、新しい顧客の開拓、新しい取引先、新しい上司や同僚。エネルギーに満ち溢...            3"
      ]
     },
     "execution_count": 9,
     "metadata": {},
     "output_type": "execute_result"
    }
   ],
   "source": [
    "# 順番をシャッフルする\n",
    "df = df.sample(frac=1, random_state=123).reset_index(drop=True)\n",
    "df.head(3)"
   ]
  },
  {
   "cell_type": "code",
   "execution_count": 10,
   "id": "3bc5253e-59ba-476f-b1e8-35af85e3e5cc",
   "metadata": {},
   "outputs": [
    {
     "data": {
      "text/plain": [
       "text           2000\n",
       "label_index    2000\n",
       "dtype: int64"
      ]
     },
     "execution_count": 10,
     "metadata": {},
     "output_type": "execute_result"
    }
   ],
   "source": [
    "# # 件数が多いので2000件のサンプルを取得\n",
    "df = df.sample(n=2000)\n",
    "df.count()"
   ]
  },
  {
   "cell_type": "markdown",
   "id": "ec87bb74-b6dd-45d0-8c90-ed88bc587ce1",
   "metadata": {},
   "source": [
    "### 2. Triplet Lossの処理をするための準備"
   ]
  },
  {
   "cell_type": "code",
   "execution_count": 11,
   "id": "57dd8b23-1d1f-4171-8e72-db4df5a35cbe",
   "metadata": {},
   "outputs": [],
   "source": [
    "# Series処理で読み込まれたラベルとDataframeのラベルを比較して同じもの（positive）を検索、サンプルとして１行だけ取り出す\n",
    "def func(x):\n",
    "    return df[['text']][df['label_index'] == x['label_index']].sample(1).iloc[0]"
   ]
  },
  {
   "cell_type": "code",
   "execution_count": 12,
   "id": "59f21db1-2a1d-48d1-a901-075770fa9b1c",
   "metadata": {},
   "outputs": [],
   "source": [
    "df = df.assign(positive = lambda x: x.apply(func, axis=1))"
   ]
  },
  {
   "cell_type": "code",
   "execution_count": 13,
   "id": "3b8b4de3-8824-4ad6-8b5d-b8b447a05f09",
   "metadata": {},
   "outputs": [],
   "source": [
    "def func(x):\n",
    "    return df[['label_index']][df['label_index'] == x['label_index']].sample(1).iloc[0]"
   ]
  },
  {
   "cell_type": "code",
   "execution_count": 14,
   "id": "a27d7f5d-3103-40a4-8e90-9bd9b8bbb067",
   "metadata": {},
   "outputs": [],
   "source": [
    "df = df.assign(positive_index = lambda x: x.apply(func, axis=1))"
   ]
  },
  {
   "cell_type": "code",
   "execution_count": 15,
   "id": "3acf29a2-400c-4abf-a63c-e9fdc853ab76",
   "metadata": {},
   "outputs": [],
   "source": [
    "# Series処理で読み込まれたラベルとDataframeのラベルを比較して異なるもの（negative）を検索、サンプルとして１行だけ取り出す\n",
    "def func(x):\n",
    "    return df[['text']][df['label_index'] != x['label_index']].sample(1).iloc[0]"
   ]
  },
  {
   "cell_type": "code",
   "execution_count": 16,
   "id": "8666193a-c29e-4112-a996-dc88b64a9040",
   "metadata": {},
   "outputs": [],
   "source": [
    "df = df.assign(negative = lambda x: x.apply(func, axis=1))"
   ]
  },
  {
   "cell_type": "code",
   "execution_count": 17,
   "id": "6f6afe52-926a-48ae-907e-244beab09c28",
   "metadata": {},
   "outputs": [],
   "source": [
    "def func(x):\n",
    "    return df[['label_index']][df['label_index'] != x['label_index']].sample(1).iloc[0]"
   ]
  },
  {
   "cell_type": "code",
   "execution_count": 18,
   "id": "95bb1102-63f2-406e-9f2e-bc4e487838a9",
   "metadata": {},
   "outputs": [],
   "source": [
    "df = df.assign(negative_index = lambda x: x.apply(func, axis=1))"
   ]
  },
  {
   "cell_type": "code",
   "execution_count": 19,
   "id": "3071d77d-0965-4957-a2ea-96ddb44138f4",
   "metadata": {},
   "outputs": [
    {
     "data": {
      "text/html": [
       "<div>\n",
       "<style scoped>\n",
       "    .dataframe tbody tr th:only-of-type {\n",
       "        vertical-align: middle;\n",
       "    }\n",
       "\n",
       "    .dataframe tbody tr th {\n",
       "        vertical-align: top;\n",
       "    }\n",
       "\n",
       "    .dataframe thead th {\n",
       "        text-align: right;\n",
       "    }\n",
       "</style>\n",
       "<table border=\"1\" class=\"dataframe\">\n",
       "  <thead>\n",
       "    <tr style=\"text-align: right;\">\n",
       "      <th></th>\n",
       "      <th>text</th>\n",
       "      <th>label_index</th>\n",
       "      <th>positive</th>\n",
       "      <th>positive_index</th>\n",
       "      <th>negative</th>\n",
       "      <th>negative_index</th>\n",
       "    </tr>\n",
       "  </thead>\n",
       "  <tbody>\n",
       "    <tr>\n",
       "      <th>3930</th>\n",
       "      <td>こんにちは、ビデオエディターを目指している小島暢華です。今回は祝日を利用してオーストラリアの...</td>\n",
       "      <td>2</td>\n",
       "      <td>ITツールが家庭内でも活用されていることがわかった。メディアインタラクティブの「家族コミュニ...</td>\n",
       "      <td>2</td>\n",
       "      <td>3日、埼玉スタジアムでは、サッカーW杯アジア最終予選が行われ、日本代表が本田圭佑、前田遼一、...</td>\n",
       "      <td>4</td>\n",
       "    </tr>\n",
       "    <tr>\n",
       "      <th>5036</th>\n",
       "      <td>こんにちは、ビデオエディターを目指している小島暢華です。普段は写真についてのコラムを書いてい...</td>\n",
       "      <td>2</td>\n",
       "      <td>現在「週刊SPA！」にて不定期連載中の『孤独のグルメ』（原作／久住昌之、作画／谷口ジロー）が...</td>\n",
       "      <td>2</td>\n",
       "      <td>ねこカフェ行きたいにゃーかわいい猫を眺めたりもふもふしたりして癒される「猫カフェ」。どこにい...</td>\n",
       "      <td>8</td>\n",
       "    </tr>\n",
       "    <tr>\n",
       "      <th>3130</th>\n",
       "      <td>世界が認めた史上最強の映画が日本上陸！8月17日の日本公開を前に、14日から16日の3日間、...</td>\n",
       "      <td>4</td>\n",
       "      <td>死者・行方不明者が、1万9000人を超える大災害となった東日本大震災。発生からまもなく1年が...</td>\n",
       "      <td>4</td>\n",
       "      <td>ポップな世界観で人気のあるキース・へリング。そのキース・へリング展が今月２１日から伊丹市立美...</td>\n",
       "      <td>2</td>\n",
       "    </tr>\n",
       "  </tbody>\n",
       "</table>\n",
       "</div>"
      ],
      "text/plain": [
       "                                                   text  label_index  \\\n",
       "3930  こんにちは、ビデオエディターを目指している小島暢華です。今回は祝日を利用してオーストラリアの...            2   \n",
       "5036  こんにちは、ビデオエディターを目指している小島暢華です。普段は写真についてのコラムを書いてい...            2   \n",
       "3130  世界が認めた史上最強の映画が日本上陸！8月17日の日本公開を前に、14日から16日の3日間、...            4   \n",
       "\n",
       "                                               positive  positive_index  \\\n",
       "3930  ITツールが家庭内でも活用されていることがわかった。メディアインタラクティブの「家族コミュニ...               2   \n",
       "5036  現在「週刊SPA！」にて不定期連載中の『孤独のグルメ』（原作／久住昌之、作画／谷口ジロー）が...               2   \n",
       "3130  死者・行方不明者が、1万9000人を超える大災害となった東日本大震災。発生からまもなく1年が...               4   \n",
       "\n",
       "                                               negative  negative_index  \n",
       "3930  3日、埼玉スタジアムでは、サッカーW杯アジア最終予選が行われ、日本代表が本田圭佑、前田遼一、...               4  \n",
       "5036  ねこカフェ行きたいにゃーかわいい猫を眺めたりもふもふしたりして癒される「猫カフェ」。どこにい...               8  \n",
       "3130  ポップな世界観で人気のあるキース・へリング。そのキース・へリング展が今月２１日から伊丹市立美...               2  "
      ]
     },
     "execution_count": 19,
     "metadata": {},
     "output_type": "execute_result"
    }
   ],
   "source": [
    "df.head(3)"
   ]
  },
  {
   "cell_type": "code",
   "execution_count": 20,
   "id": "b99a0935-a9db-4f7d-b183-d500674b805d",
   "metadata": {},
   "outputs": [],
   "source": [
    "# 不要な列の削除\n",
    "df = df.drop(['label_index', 'positive_index', 'negative_index'], axis=1)"
   ]
  },
  {
   "cell_type": "code",
   "execution_count": 21,
   "id": "e1bde436-9e15-49de-abde-8835f3aea13b",
   "metadata": {},
   "outputs": [
    {
     "data": {
      "text/html": [
       "<div>\n",
       "<style scoped>\n",
       "    .dataframe tbody tr th:only-of-type {\n",
       "        vertical-align: middle;\n",
       "    }\n",
       "\n",
       "    .dataframe tbody tr th {\n",
       "        vertical-align: top;\n",
       "    }\n",
       "\n",
       "    .dataframe thead th {\n",
       "        text-align: right;\n",
       "    }\n",
       "</style>\n",
       "<table border=\"1\" class=\"dataframe\">\n",
       "  <thead>\n",
       "    <tr style=\"text-align: right;\">\n",
       "      <th></th>\n",
       "      <th>text</th>\n",
       "      <th>positive</th>\n",
       "      <th>negative</th>\n",
       "    </tr>\n",
       "  </thead>\n",
       "  <tbody>\n",
       "    <tr>\n",
       "      <th>3930</th>\n",
       "      <td>こんにちは、ビデオエディターを目指している小島暢華です。今回は祝日を利用してオーストラリアの...</td>\n",
       "      <td>ITツールが家庭内でも活用されていることがわかった。メディアインタラクティブの「家族コミュニ...</td>\n",
       "      <td>3日、埼玉スタジアムでは、サッカーW杯アジア最終予選が行われ、日本代表が本田圭佑、前田遼一、...</td>\n",
       "    </tr>\n",
       "    <tr>\n",
       "      <th>5036</th>\n",
       "      <td>こんにちは、ビデオエディターを目指している小島暢華です。普段は写真についてのコラムを書いてい...</td>\n",
       "      <td>現在「週刊SPA！」にて不定期連載中の『孤独のグルメ』（原作／久住昌之、作画／谷口ジロー）が...</td>\n",
       "      <td>ねこカフェ行きたいにゃーかわいい猫を眺めたりもふもふしたりして癒される「猫カフェ」。どこにい...</td>\n",
       "    </tr>\n",
       "    <tr>\n",
       "      <th>3130</th>\n",
       "      <td>世界が認めた史上最強の映画が日本上陸！8月17日の日本公開を前に、14日から16日の3日間、...</td>\n",
       "      <td>死者・行方不明者が、1万9000人を超える大災害となった東日本大震災。発生からまもなく1年が...</td>\n",
       "      <td>ポップな世界観で人気のあるキース・へリング。そのキース・へリング展が今月２１日から伊丹市立美...</td>\n",
       "    </tr>\n",
       "  </tbody>\n",
       "</table>\n",
       "</div>"
      ],
      "text/plain": [
       "                                                   text  \\\n",
       "3930  こんにちは、ビデオエディターを目指している小島暢華です。今回は祝日を利用してオーストラリアの...   \n",
       "5036  こんにちは、ビデオエディターを目指している小島暢華です。普段は写真についてのコラムを書いてい...   \n",
       "3130  世界が認めた史上最強の映画が日本上陸！8月17日の日本公開を前に、14日から16日の3日間、...   \n",
       "\n",
       "                                               positive  \\\n",
       "3930  ITツールが家庭内でも活用されていることがわかった。メディアインタラクティブの「家族コミュニ...   \n",
       "5036  現在「週刊SPA！」にて不定期連載中の『孤独のグルメ』（原作／久住昌之、作画／谷口ジロー）が...   \n",
       "3130  死者・行方不明者が、1万9000人を超える大災害となった東日本大震災。発生からまもなく1年が...   \n",
       "\n",
       "                                               negative  \n",
       "3930  3日、埼玉スタジアムでは、サッカーW杯アジア最終予選が行われ、日本代表が本田圭佑、前田遼一、...  \n",
       "5036  ねこカフェ行きたいにゃーかわいい猫を眺めたりもふもふしたりして癒される「猫カフェ」。どこにい...  \n",
       "3130  ポップな世界観で人気のあるキース・へリング。そのキース・へリング展が今月２１日から伊丹市立美...  "
      ]
     },
     "execution_count": 21,
     "metadata": {},
     "output_type": "execute_result"
    }
   ],
   "source": [
    "df.head(3)"
   ]
  },
  {
   "cell_type": "code",
   "execution_count": 22,
   "id": "e491041d-bc25-4ac6-81e6-c1737b482b16",
   "metadata": {},
   "outputs": [],
   "source": [
    "# 列名の変更\n",
    "df = df.rename(columns={'text': 'anchor'})"
   ]
  },
  {
   "cell_type": "code",
   "execution_count": 23,
   "id": "2749ffc3-0d7b-440c-89bb-a795fb620fb8",
   "metadata": {},
   "outputs": [
    {
     "data": {
      "text/html": [
       "<div>\n",
       "<style scoped>\n",
       "    .dataframe tbody tr th:only-of-type {\n",
       "        vertical-align: middle;\n",
       "    }\n",
       "\n",
       "    .dataframe tbody tr th {\n",
       "        vertical-align: top;\n",
       "    }\n",
       "\n",
       "    .dataframe thead th {\n",
       "        text-align: right;\n",
       "    }\n",
       "</style>\n",
       "<table border=\"1\" class=\"dataframe\">\n",
       "  <thead>\n",
       "    <tr style=\"text-align: right;\">\n",
       "      <th></th>\n",
       "      <th>anchor</th>\n",
       "      <th>positive</th>\n",
       "      <th>negative</th>\n",
       "    </tr>\n",
       "  </thead>\n",
       "  <tbody>\n",
       "    <tr>\n",
       "      <th>3930</th>\n",
       "      <td>こんにちは、ビデオエディターを目指している小島暢華です。今回は祝日を利用してオーストラリアの...</td>\n",
       "      <td>ITツールが家庭内でも活用されていることがわかった。メディアインタラクティブの「家族コミュニ...</td>\n",
       "      <td>3日、埼玉スタジアムでは、サッカーW杯アジア最終予選が行われ、日本代表が本田圭佑、前田遼一、...</td>\n",
       "    </tr>\n",
       "    <tr>\n",
       "      <th>5036</th>\n",
       "      <td>こんにちは、ビデオエディターを目指している小島暢華です。普段は写真についてのコラムを書いてい...</td>\n",
       "      <td>現在「週刊SPA！」にて不定期連載中の『孤独のグルメ』（原作／久住昌之、作画／谷口ジロー）が...</td>\n",
       "      <td>ねこカフェ行きたいにゃーかわいい猫を眺めたりもふもふしたりして癒される「猫カフェ」。どこにい...</td>\n",
       "    </tr>\n",
       "    <tr>\n",
       "      <th>3130</th>\n",
       "      <td>世界が認めた史上最強の映画が日本上陸！8月17日の日本公開を前に、14日から16日の3日間、...</td>\n",
       "      <td>死者・行方不明者が、1万9000人を超える大災害となった東日本大震災。発生からまもなく1年が...</td>\n",
       "      <td>ポップな世界観で人気のあるキース・へリング。そのキース・へリング展が今月２１日から伊丹市立美...</td>\n",
       "    </tr>\n",
       "  </tbody>\n",
       "</table>\n",
       "</div>"
      ],
      "text/plain": [
       "                                                 anchor  \\\n",
       "3930  こんにちは、ビデオエディターを目指している小島暢華です。今回は祝日を利用してオーストラリアの...   \n",
       "5036  こんにちは、ビデオエディターを目指している小島暢華です。普段は写真についてのコラムを書いてい...   \n",
       "3130  世界が認めた史上最強の映画が日本上陸！8月17日の日本公開を前に、14日から16日の3日間、...   \n",
       "\n",
       "                                               positive  \\\n",
       "3930  ITツールが家庭内でも活用されていることがわかった。メディアインタラクティブの「家族コミュニ...   \n",
       "5036  現在「週刊SPA！」にて不定期連載中の『孤独のグルメ』（原作／久住昌之、作画／谷口ジロー）が...   \n",
       "3130  死者・行方不明者が、1万9000人を超える大災害となった東日本大震災。発生からまもなく1年が...   \n",
       "\n",
       "                                               negative  \n",
       "3930  3日、埼玉スタジアムでは、サッカーW杯アジア最終予選が行われ、日本代表が本田圭佑、前田遼一、...  \n",
       "5036  ねこカフェ行きたいにゃーかわいい猫を眺めたりもふもふしたりして癒される「猫カフェ」。どこにい...  \n",
       "3130  ポップな世界観で人気のあるキース・へリング。そのキース・へリング展が今月２１日から伊丹市立美...  "
      ]
     },
     "execution_count": 23,
     "metadata": {},
     "output_type": "execute_result"
    }
   ],
   "source": [
    "df.head(3)"
   ]
  },
  {
   "cell_type": "code",
   "execution_count": 24,
   "id": "aef41a72-0088-4d11-ba97-7342af1f0fd7",
   "metadata": {},
   "outputs": [
    {
     "data": {
      "text/plain": [
       "(2000, 3)"
      ]
     },
     "execution_count": 24,
     "metadata": {},
     "output_type": "execute_result"
    }
   ],
   "source": [
    "# 件数の確認\n",
    "df.shape\n",
    "# (2000, 3)"
   ]
  },
  {
   "cell_type": "code",
   "execution_count": 25,
   "id": "b59aca0a-7c04-4288-a89f-8f4d9821d6b6",
   "metadata": {},
   "outputs": [],
   "source": [
    "from sklearn.model_selection import train_test_split\n",
    "train, test = train_test_split(df, train_size=0.8, random_state=4)"
   ]
  },
  {
   "cell_type": "code",
   "execution_count": 26,
   "id": "c25af3b0-86f8-4966-ab6e-e2b0dc674bca",
   "metadata": {},
   "outputs": [
    {
     "name": "stdout",
     "output_type": "stream",
     "text": [
      "1600\n",
      "400\n"
     ]
    }
   ],
   "source": [
    "print(len(train))\n",
    "print(len(test))"
   ]
  },
  {
   "cell_type": "code",
   "execution_count": 27,
   "id": "dd0b5dcc-6df2-4e05-9747-142a5e4f150c",
   "metadata": {},
   "outputs": [],
   "source": [
    "# タブ区切りのテキストデータに書き出し\n",
    "train.to_csv('./triplet_train.tsv', sep='\\t', index = False)\n",
    "test.to_csv('./triplet_test.tsv', sep='\\t', index = False)"
   ]
  },
  {
   "cell_type": "code",
   "execution_count": null,
   "id": "b424c42b-fda3-4ae8-8ac2-118e75d19ef4",
   "metadata": {},
   "outputs": [],
   "source": []
  },
  {
   "cell_type": "code",
   "execution_count": null,
   "id": "52d168b3-0cb8-44b1-a7bf-8b4bd34b284c",
   "metadata": {},
   "outputs": [],
   "source": []
  }
 ],
 "metadata": {
  "kernelspec": {
   "display_name": "Python 3 (ipykernel)",
   "language": "python",
   "name": "python3"
  },
  "language_info": {
   "codemirror_mode": {
    "name": "ipython",
    "version": 3
   },
   "file_extension": ".py",
   "mimetype": "text/x-python",
   "name": "python",
   "nbconvert_exporter": "python",
   "pygments_lexer": "ipython3",
   "version": "3.8.10"
  }
 },
 "nbformat": 4,
 "nbformat_minor": 5
}
